{
 "metadata": {
  "name": ""
 },
 "nbformat": 3,
 "nbformat_minor": 0,
 "worksheets": [
  {
   "cells": [
    {
     "cell_type": "code",
     "collapsed": false,
     "input": [
      "%pylab inline\n",
      "\n",
      "import numpy as np\n",
      "import pandas as pd\n",
      "# ..."
     ],
     "language": "python",
     "metadata": {},
     "outputs": [
      {
       "output_type": "stream",
       "stream": "stdout",
       "text": [
        "Populating the interactive namespace from numpy and matplotlib\n"
       ]
      }
     ],
     "prompt_number": 1
    },
    {
     "cell_type": "code",
     "collapsed": false,
     "input": [
      "![ -e \"imports-85.data\" ] || wget \"http://archive.ics.uci.edu/ml/machine-learning-databases/autos/imports-85.data\""
     ],
     "language": "python",
     "metadata": {},
     "outputs": [],
     "prompt_number": 2
    },
    {
     "cell_type": "code",
     "collapsed": false,
     "input": [
      "data = pd.read_csv(\"imports-85.data\",\n",
      "                   na_values=\"?\",\n",
      "                   header=None,\n",
      "                   index_col=False,\n",
      "                   names=[\"symboling\",         # [-3, 3]\n",
      "                          \"normalized-losses\", # delete me\n",
      "                          \"make\",              # one of: alfa-romero, audi, bmw ... etc\n",
      "                          \"fuel-type\",         # disel or gas\n",
      "                          \"aspiration\",        # std or turbo\n",
      "                          \"num-of-doors\",      # four or two\n",
      "                          \"body-style\",        # one of: hardtop, wagon, sedan ... etc\n",
      "                          \"drive-wheels\",      # one of: 4wd, fwd, rwd\n",
      "                          \"engine-location\",   # front or rear\n",
      "                          \"wheel-base\",        # [86.6, 120.9]\n",
      "                          \"length\",            # [141.1, 208.1]\n",
      "                          \"width\",             # [60.3, 72.3]\n",
      "                          \"height\",            # [47.8, 59.8]\n",
      "                          \"curb-weight\",       # [1488, 4066]\n",
      "                          \"engine-type\",       # one of: dohc, dohcv, l, ohc... etc\n",
      "                          \"num-of-cylinders\",  # one of: two, three, four, five, six, eight\n",
      "                          \"engine-size\",       # [61, 326]\n",
      "                          \"fuel-system\",       # one of: 1bbl, 2bbl, 4bbl... etc\n",
      "                          \"bore\",              # [2.54, 3.94]\n",
      "                          \"stroke\",            # [2.07, 4.17]\n",
      "                          \"compression-ratio\", # [7, 23]\n",
      "                          \"horsepower\",        # [48, 288]\n",
      "                          \"peak-rpm\",          # [4150, 6600]\n",
      "                          \"city-mpg\",          # [13, 49]\n",
      "                          \"highway-mpg\",       # [16, 54]\n",
      "                          \"price\"]             # [5118, 45400]\n",
      "                   )\n",
      "\n",
      "data = data.drop([\"normalized-losses\"], axis=1)\n",
      "data = data.dropna()\n",
      "\n",
      "data_mappings = {\n",
      "    \"num-of-doors\": {\n",
      "        \"four\" : 4,\n",
      "        \"two\" : 2\n",
      "    },\n",
      "    \"num-of-cylinders\": {\n",
      "        \"two\" : 2,\n",
      "        \"three\" : 3,\n",
      "        \"four\" : 4,\n",
      "        \"five\" : 5,\n",
      "        \"six\" : 6,\n",
      "        \"eight\" : 8,\n",
      "        \"twelve\" : 12\n",
      "    }\n",
      "}\n",
      "\n",
      "def map_categorical_feature(df, feature):\n",
      "    \"\"\"Map categorical @feature in DataFrame @df to int.\n",
      "    Save mapping to global dict @data_mappings.\n",
      "    \n",
      "    :returns: Series with mapping.\n",
      "    \"\"\"\n",
      "    if feature not in data_mappings:\n",
      "        categories = df[feature].unique()\n",
      "        data_mappings[feature] = dict(((m, n) for n, m in enumerate(categories)))\n",
      "    return df[feature].map(data_mappings[feature])\n",
      "\n",
      "\n",
      "for feature in data:\n",
      "    if data[feature].dtype is np.dtype(object):\n",
      "        data[feature] = map_categorical_feature(data, feature)"
     ],
     "language": "python",
     "metadata": {},
     "outputs": [],
     "prompt_number": 3
    },
    {
     "cell_type": "code",
     "collapsed": false,
     "input": [
      "X = data[data.keys()[:-1]].as_matrix()\n",
      "y = np.array(data[data.keys()[-1]])"
     ],
     "language": "python",
     "metadata": {},
     "outputs": [],
     "prompt_number": 4
    },
    {
     "cell_type": "code",
     "collapsed": false,
     "input": [
      "from sklearn.tree import DecisionTreeRegressor\n",
      "from sklearn.grid_search import GridSearchCV\n",
      "\n",
      "\n",
      "params = {\n",
      "    \"max_features\" : [1, 2, 3, 4, 5, 6],\n",
      "    \"max_depth\" : [2, 3, 5, 7, 11, 13, 17, 23],\n",
      "    \"min_samples_split\" : [1, 4, 6, 8],\n",
      "    \"min_samples_leaf\" : [1, 2, 3],\n",
      "    \"random_state\" : [42]\n",
      "}\n",
      "\n",
      "_dtree = DecisionTreeRegressor()\n",
      "dtree = GridSearchCV(_dtree, params, n_jobs=2, verbose=1)\n",
      "dtree.fit(X, y)"
     ],
     "language": "python",
     "metadata": {},
     "outputs": [
      {
       "output_type": "stream",
       "stream": "stdout",
       "text": [
        "Fitting 3 folds for each of 576 candidates, totalling 1728 fits\n"
       ]
      },
      {
       "output_type": "stream",
       "stream": "stderr",
       "text": [
        "[Parallel(n_jobs=2)]: Done   1 jobs       | elapsed:    0.0s\n",
        "[Parallel(n_jobs=2)]: Done  50 jobs       | elapsed:    0.1s\n",
        "[Parallel(n_jobs=2)]: Done 200 jobs       | elapsed:    0.2s\n",
        "[Parallel(n_jobs=2)]: Done 450 jobs       | elapsed:    0.5s\n",
        "[Parallel(n_jobs=2)]: Done 800 jobs       | elapsed:    1.0s\n",
        "[Parallel(n_jobs=2)]: Done 1250 jobs       | elapsed:    1.5s\n",
        "[Parallel(n_jobs=2)]: Done 1726 out of 1728 | elapsed:    2.0s remaining:    0.0s\n",
        "[Parallel(n_jobs=2)]: Done 1728 out of 1728 | elapsed:    2.0s finished\n"
       ]
      },
      {
       "metadata": {},
       "output_type": "pyout",
       "prompt_number": 5,
       "text": [
        "GridSearchCV(cv=None,\n",
        "       estimator=DecisionTreeRegressor(compute_importances=None, criterion='mse',\n",
        "           max_depth=None, max_features=None, min_density=None,\n",
        "           min_samples_leaf=1, min_samples_split=2, random_state=None,\n",
        "           splitter='best'),\n",
        "       fit_params={}, iid=True, loss_func=None, n_jobs=2,\n",
        "       param_grid={'max_features': [1, 2, 3, 4, 5, 6], 'min_samples_split': [1, 4, 6, 8], 'random_state': [42], 'max_depth': [2, 3, 5, 7, 11, 13, 17, 23], 'min_samples_leaf': [1, 2, 3]},\n",
        "       pre_dispatch='2*n_jobs', refit=True, score_func=None, scoring=None,\n",
        "       verbose=1)"
       ]
      }
     ],
     "prompt_number": 5
    },
    {
     "cell_type": "code",
     "collapsed": false,
     "input": [
      "np.sum(sqrt((dtree.predict(X) - y) ** 2)) / np.size(y)"
     ],
     "language": "python",
     "metadata": {},
     "outputs": [
      {
       "metadata": {},
       "output_type": "pyout",
       "prompt_number": 6,
       "text": [
        "783.88490007401924"
       ]
      }
     ],
     "prompt_number": 6
    },
    {
     "cell_type": "code",
     "collapsed": false,
     "input": [
      "dtree.best_params_"
     ],
     "language": "python",
     "metadata": {},
     "outputs": [
      {
       "metadata": {},
       "output_type": "pyout",
       "prompt_number": 7,
       "text": [
        "{'max_depth': 11,\n",
        " 'max_features': 3,\n",
        " 'min_samples_leaf': 1,\n",
        " 'min_samples_split': 6,\n",
        " 'random_state': 42}"
       ]
      }
     ],
     "prompt_number": 7
    },
    {
     "cell_type": "code",
     "collapsed": false,
     "input": [],
     "language": "python",
     "metadata": {},
     "outputs": [],
     "prompt_number": 7
    },
    {
     "cell_type": "code",
     "collapsed": false,
     "input": [],
     "language": "python",
     "metadata": {},
     "outputs": [],
     "prompt_number": 7
    }
   ],
   "metadata": {}
  }
 ]
}