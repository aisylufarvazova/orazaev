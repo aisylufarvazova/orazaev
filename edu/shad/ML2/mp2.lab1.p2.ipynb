{
 "metadata": {
  "name": ""
 },
 "nbformat": 3,
 "nbformat_minor": 0,
 "worksheets": [
  {
   "cells": [
    {
     "cell_type": "heading",
     "level": 1,
     "metadata": {},
     "source": [
      "\u041b\u0430\u0431\u043e\u0440\u0430\u0442\u043e\u0440\u043d\u0430\u044f \u0440\u0430\u0431\u043e\u0442\u0430 1. \u0417\u0430\u0434\u0430\u043d\u0438\u0435 2."
     ]
    },
    {
     "cell_type": "markdown",
     "metadata": {},
     "source": [
      "\u0412\u044b\u043f\u043e\u043b\u043d\u0438\u043b \u0410\u043c\u0430\u043d \u041e\u0440\u0430\u0437\u0430\u0435\u0432."
     ]
    },
    {
     "cell_type": "heading",
     "level": 2,
     "metadata": {},
     "source": [
      "\u0425\u043e\u0434 \u0440\u0430\u0431\u043e\u0442\u044b"
     ]
    },
    {
     "cell_type": "code",
     "collapsed": false,
     "input": [
      "%pylab inline"
     ],
     "language": "python",
     "metadata": {},
     "outputs": [
      {
       "output_type": "stream",
       "stream": "stdout",
       "text": [
        "Populating the interactive namespace from numpy and matplotlib\n"
       ]
      }
     ],
     "prompt_number": 1
    },
    {
     "cell_type": "code",
     "collapsed": false,
     "input": [
      "import pandas as pd\n",
      "\n",
      "from sklearn.datasets import load_digits\n",
      "from sklearn import cross_validation\n",
      "from sklearn import grid_search\n",
      "from sklearn.neighbors import KNeighborsClassifier\n",
      "from sklearn.svm import LinearSVC\n",
      "from sklearn.svm import SVC"
     ],
     "language": "python",
     "metadata": {},
     "outputs": [],
     "prompt_number": 2
    },
    {
     "cell_type": "code",
     "collapsed": false,
     "input": [
      "data = load_digits()"
     ],
     "language": "python",
     "metadata": {},
     "outputs": [],
     "prompt_number": 3
    },
    {
     "cell_type": "code",
     "collapsed": false,
     "input": [
      "X_train, X_test, y_train, y_test = cross_validation.train_test_split(\n",
      "        data.data, data.target, test_size=0.3, random_state=42)"
     ],
     "language": "python",
     "metadata": {},
     "outputs": [],
     "prompt_number": 4
    },
    {
     "cell_type": "code",
     "collapsed": false,
     "input": [
      "params = {\n",
      "    'p' : range(1, 4),\n",
      "    'n_neighbors' : range(1, 7)\n",
      "}\n",
      "\n",
      "_knn = KNeighborsClassifier()\n",
      "knn = grid_search.GridSearchCV(_knn, params, n_jobs=2, verbose=1)\n",
      "knn.fit(X_train, y_train)\n",
      "knn.score(X_test, y_test)"
     ],
     "language": "python",
     "metadata": {},
     "outputs": [
      {
       "output_type": "stream",
       "stream": "stdout",
       "text": [
        "Fitting 3 folds for each of 18 candidates, totalling 54 fits\n"
       ]
      },
      {
       "output_type": "stream",
       "stream": "stderr",
       "text": [
        "[Parallel(n_jobs=2)]: Done   1 jobs       | elapsed:    0.1s\n",
        "[Parallel(n_jobs=2)]: Done  50 jobs       | elapsed:    2.3s\n",
        "[Parallel(n_jobs=2)]: Done  52 out of  54 | elapsed:    2.4s remaining:    0.1s\n",
        "[Parallel(n_jobs=2)]: Done  54 out of  54 | elapsed:    2.5s finished\n"
       ]
      },
      {
       "metadata": {},
       "output_type": "pyout",
       "prompt_number": 5,
       "text": [
        "0.98333333333333328"
       ]
      }
     ],
     "prompt_number": 5
    },
    {
     "cell_type": "code",
     "collapsed": false,
     "input": [
      "params = {\n",
      "    'C' : [10 ** p for p in xrange(-2, 2)],\n",
      "    'gamma' : [10 ** p for p in xrange(-4, 1)]\n",
      "}\n",
      "\n",
      "_rbf_svc = SVC()\n",
      "rbf_svc = grid_search.GridSearchCV(_rbf_svc, params, n_jobs=2, verbose=1)\n",
      "rbf_svc.fit(X_train, y_train)\n",
      "rbf_svc.score(X_test, y_test)"
     ],
     "language": "python",
     "metadata": {},
     "outputs": [
      {
       "output_type": "stream",
       "stream": "stdout",
       "text": [
        "Fitting 3 folds for each of 20 candidates, totalling 60 fits\n"
       ]
      },
      {
       "output_type": "stream",
       "stream": "stderr",
       "text": [
        "[Parallel(n_jobs=2)]: Done   1 jobs       | elapsed:    0.3s\n",
        "[Parallel(n_jobs=2)]: Done  50 jobs       | elapsed:    8.0s\n",
        "[Parallel(n_jobs=2)]: Done  58 out of  60 | elapsed:    9.7s remaining:    0.3s\n",
        "[Parallel(n_jobs=2)]: Done  60 out of  60 | elapsed:   10.1s finished\n"
       ]
      },
      {
       "metadata": {},
       "output_type": "pyout",
       "prompt_number": 6,
       "text": [
        "0.9907407407407407"
       ]
      }
     ],
     "prompt_number": 6
    },
    {
     "cell_type": "code",
     "collapsed": false,
     "input": [
      "params = {\n",
      "    'C' : [10 ** p for p in xrange(-4, 2)],\n",
      "}\n",
      "\n",
      "_svc = LinearSVC()\n",
      "svc = grid_search.GridSearchCV(_svc, params, verbose=1)\n",
      "svc.fit(X_train, y_train)\n",
      "svc.score(X_test, y_test)"
     ],
     "language": "python",
     "metadata": {},
     "outputs": [
      {
       "output_type": "stream",
       "stream": "stderr",
       "text": [
        "[Parallel(n_jobs=1)]: Done   1 jobs       | elapsed:    0.0s\n",
        "[Parallel(n_jobs=1)]: Done  18 out of  18 | elapsed:    1.8s finished\n"
       ]
      },
      {
       "output_type": "stream",
       "stream": "stdout",
       "text": [
        "Fitting 3 folds for each of 6 candidates, totalling 18 fits\n"
       ]
      },
      {
       "metadata": {},
       "output_type": "pyout",
       "prompt_number": 7,
       "text": [
        "0.96481481481481479"
       ]
      }
     ],
     "prompt_number": 7
    },
    {
     "cell_type": "code",
     "collapsed": false,
     "input": [],
     "language": "python",
     "metadata": {},
     "outputs": [
      {
       "metadata": {},
       "output_type": "pyout",
       "prompt_number": 8,
       "text": [
        "{'C': 0.001}"
       ]
      }
     ],
     "prompt_number": 8
    },
    {
     "cell_type": "code",
     "collapsed": false,
     "input": [],
     "language": "python",
     "metadata": {},
     "outputs": [],
     "prompt_number": 8
    }
   ],
   "metadata": {}
  }
 ]
}