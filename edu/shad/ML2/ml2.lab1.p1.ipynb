{
 "metadata": {
  "name": ""
 },
 "nbformat": 3,
 "nbformat_minor": 0,
 "worksheets": [
  {
   "cells": [
    {
     "cell_type": "heading",
     "level": 1,
     "metadata": {},
     "source": [
      "\u041b\u0430\u0431\u043e\u0440\u0430\u0442\u043e\u0440\u043d\u0430\u044f \u0440\u0430\u0431\u043e\u0442\u0430 1. \u0417\u0430\u0434\u0430\u043d\u0438\u0435 1."
     ]
    },
    {
     "cell_type": "markdown",
     "metadata": {},
     "source": [
      "\u0412\u044b\u043f\u043e\u043b\u043d\u0438\u043b \u0410\u043c\u0430\u043d \u041e\u0440\u0430\u0437\u0430\u0435\u0432."
     ]
    },
    {
     "cell_type": "heading",
     "level": 2,
     "metadata": {},
     "source": [
      "\u0425\u043e\u0434 \u0440\u0430\u0431\u043e\u0442\u044b"
     ]
    },
    {
     "cell_type": "markdown",
     "metadata": {},
     "source": [
      "\u0414\u043b\u044f \u043d\u0430\u0447\u0430\u043b\u0430 \u043d\u0430\u0441\u0442\u0440\u043e\u0438\u043c \u043e\u043a\u0440\u0443\u0436\u0435\u043d\u0438\u0435 ipython notebook \u0438 \u0438\u043c\u043f\u043e\u0440\u0442\u0438\u0440\u0443\u0435\u043c \u043d\u0443\u0436\u043d\u044b\u0435 \u043d\u0430\u043c \u043c\u043e\u0434\u0443\u043b\u0438:"
     ]
    },
    {
     "cell_type": "code",
     "collapsed": false,
     "input": [
      "%pylab inline"
     ],
     "language": "python",
     "metadata": {},
     "outputs": [
      {
       "output_type": "stream",
       "stream": "stdout",
       "text": [
        "Populating the interactive namespace from numpy and matplotlib\n"
       ]
      }
     ],
     "prompt_number": 1
    },
    {
     "cell_type": "code",
     "collapsed": false,
     "input": [
      "import numpy as np\n",
      "import sklearn as sk\n",
      "import pandas as pd\n",
      "import matplotlib.pyplot as pl\n",
      "from sklearn.datasets import load_boston"
     ],
     "language": "python",
     "metadata": {},
     "outputs": [],
     "prompt_number": 2
    },
    {
     "cell_type": "markdown",
     "metadata": {},
     "source": [
      "\u041e\u0431\u044a\u044f\u0432\u0438\u043c \u0444\u0443\u043d\u043a\u0446\u0438\u044e \u043a\u043e\u0442\u043e\u0440\u0430\u044f \u043d\u0430\u043c \u0432\u0435\u0440\u043d\u0435\u0442 SVD \u043c\u0430\u0442\u0440\u0438\u0446\u044b \u0442\u0430\u043a\u043e\u0435, \u043a\u0430\u043a \u043e\u043f\u0438\u0441\u0430\u043d\u043e \u0432 \u043b\u0435\u043a\u0446\u0438\u044f\u0445:"
     ]
    },
    {
     "cell_type": "code",
     "collapsed": false,
     "input": [
      "def calc_svd(M):\n",
      "    \"\"\"Returns (V, D, U) -- singular value decomposition of given numpy.matrix\n",
      "    \"\"\"\n",
      "    V, s_values, U = np.linalg.svd(M, full_matrices=0)\n",
      "    return V, np.matrix(np.diag(s_values)), np.transpose(U)"
     ],
     "language": "python",
     "metadata": {},
     "outputs": [],
     "prompt_number": 3
    },
    {
     "cell_type": "markdown",
     "metadata": {},
     "source": [
      "\u0422\u0435\u043f\u0435\u0440\u044c \u043e\u0431\u044a\u044f\u0432\u0438\u043c \u0444\u0443\u043d\u043a\u0446\u0438\u0438 \u0434\u043b\u044f \u043f\u043e\u0434\u0441\u0447\u0435\u0442\u0430 \u043c\u0435\u0442\u0440\u0438\u043a R^2 \u0438 RMSE:"
     ]
    },
    {
     "cell_type": "code",
     "collapsed": false,
     "input": [
      "def calc_score(predicted, y):\n",
      "    \"\"\"Returns prediction score (see method in sklearn.linear_model.Ridge.score())\n",
      "    \n",
      "    Also you may see http://en.wikipedia.org/wiki/Coefficient_of_determination\n",
      "    \"\"\"\n",
      "    return 1 - (np.array(predicted - y) ** 2).sum() / (np.array(y - np.mean(y)) ** 2).sum()\n",
      "\n",
      "\n",
      "def calc_rmse(predicted, y):\n",
      "    \"\"\"Calculate Root-mean-square error.\n",
      "    \n",
      "    For more information see: http://en.wikipedia.org/wiki/Root-mean-square_deviation\n",
      "    \"\"\"\n",
      "    return (np.array(predicted - y) ** 2).sum() / y.shape[0]"
     ],
     "language": "python",
     "metadata": {},
     "outputs": [],
     "prompt_number": 4
    },
    {
     "cell_type": "markdown",
     "metadata": {},
     "source": [
      "\u0421\u043e\u0431\u0441\u0442\u0432\u0435\u043d\u043d\u043e \u0442\u0435\u043f\u0435\u0440\u044c \u043d\u0430\u043f\u0438\u0448\u0435\u043c \u043e\u0431\u0443\u0447\u0435\u043d\u0438\u0435 \u043c\u043e\u0434\u0435\u043b\u0438:"
     ]
    },
    {
     "cell_type": "code",
     "collapsed": false,
     "input": [
      "def linear_regression_with_regularization(F, y, theta):\n",
      "    \"\"\"Learning using linear regression with regularization\n",
      "    \n",
      "    :returns: alpha -- vector of parameters.\n",
      "    \n",
      "    F\n",
      "        numpy.matrix objects/features or tuple (U, D, V) of\n",
      "        numpy.matrix, precalculated svd of F.\n",
      "        \n",
      "    y\n",
      "        vector of answers\n",
      "        \n",
      "    theta\n",
      "        regularization parametr\n",
      "    \"\"\"\n",
      "    V, D, U = None, None, None\n",
      "    if isinstance(F, tuple):\n",
      "        V, D, U = F\n",
      "    else:\n",
      "        V, D, U = calc_svd(F)\n",
      "    \n",
      "    n = U.shape[0]\n",
      "    \n",
      "    Inv = np.matrix(np.diag(np.array(1/(D * D + theta * np.identity(n)).diagonal())[0, :]))\n",
      "    alpha = U * Inv * D * np.transpose(V) * y\n",
      "    return alpha"
     ],
     "language": "python",
     "metadata": {},
     "outputs": [],
     "prompt_number": 5
    },
    {
     "cell_type": "markdown",
     "metadata": {},
     "source": [
      "\u0417\u0430\u0433\u0440\u0443\u0437\u0438\u043c \u043d\u0443\u0436\u043d\u044b\u0435 \u043d\u0430\u043c \u0434\u0430\u043d\u043d\u044b\u0435 \u0438\u0441\u043f\u043e\u043b\u044c\u0437\u0443\u044f \u0441\u043f\u0435\u0446\u0438\u0430\u043b\u044c\u043d\u044b\u0439 \u043c\u043e\u0434\u0443\u043b\u044c scikit-learn:"
     ]
    },
    {
     "cell_type": "code",
     "collapsed": false,
     "input": [
      "boston = load_boston()\n",
      "boston.data.shape"
     ],
     "language": "python",
     "metadata": {},
     "outputs": [
      {
       "metadata": {},
       "output_type": "pyout",
       "prompt_number": 6,
       "text": [
        "(506, 13)"
       ]
      }
     ],
     "prompt_number": 6
    },
    {
     "cell_type": "code",
     "collapsed": false,
     "input": [
      "F = np.matrix(boston.data)\n",
      "y = np.transpose(np.matrix(boston.target))"
     ],
     "language": "python",
     "metadata": {},
     "outputs": [],
     "prompt_number": 7
    },
    {
     "cell_type": "markdown",
     "metadata": {},
     "source": [
      "\u0420\u0430\u0437\u0434\u0435\u043b\u0438\u043c \u0434\u0430\u043d\u043d\u044b\u0435 \u043d\u0430 \u043e\u0431\u0443\u0447\u0430\u044e\u0449\u0443\u044e \u0438 \u0442\u0435\u0441\u0442\u043e\u0432\u0443\u044e \u0432\u044b\u0431\u043e\u0440\u043a\u0443:"
     ]
    },
    {
     "cell_type": "code",
     "collapsed": false,
     "input": [
      "np.random.seed(42)\n",
      "indexes = range(y.shape[0])\n",
      "np.random.shuffle(indexes)\n",
      "train_indexes = indexes[0:len(indexes)/2]\n",
      "test_indexes = indexes[len(indexes)/2:]"
     ],
     "language": "python",
     "metadata": {},
     "outputs": [],
     "prompt_number": 8
    },
    {
     "cell_type": "code",
     "collapsed": false,
     "input": [
      "F_train = F[train_indexes, :]\n",
      "y_train = y[train_indexes, :]\n",
      "F_test = F[test_indexes, :]\n",
      "y_test = y[test_indexes, :]\n",
      "V, D, U = calc_svd(F_train)"
     ],
     "language": "python",
     "metadata": {},
     "outputs": [],
     "prompt_number": 9
    },
    {
     "cell_type": "markdown",
     "metadata": {},
     "source": [
      "\u041f\u043e\u0441\u0442\u0440\u043e\u0438\u043c \u0433\u0440\u0430\u0444\u0438\u043a\u0438 \u0437\u0430\u0432\u0438\u0441\u0438\u043c\u043e\u0441\u0442\u0438 \u043c\u0435\u0442\u0440\u0438\u043a RMSE \u0438 R^2 \u043e\u0442 \u043f\u0430\u0440\u0430\u043c\u0435\u0442\u0440\u0430 \u0440\u0435\u0433\u0443\u043b\u044f\u0440\u0438\u0437\u0430\u0446\u0438\u0438:"
     ]
    },
    {
     "cell_type": "code",
     "collapsed": false,
     "input": [
      "theta = [10 ** p for p in xrange(-7, 7)]\n",
      "score = []\n",
      "rmse = []\n",
      "\n",
      "for t in theta:\n",
      "    alpha = linear_regression_with_regularization((V, D, U), y_train, t)\n",
      "    score.append(calc_score(F_test * alpha, y_test))\n",
      "    rmse.append(calc_rmse(F_test * alpha, y_test))\n",
      "    \n",
      "fig = pl.figure(figsize(16, 6))\n",
      "pl.subplot(1, 2, 1)\n",
      "pl.plot(theta, rmse)\n",
      "pl.ylabel('RMSE on test data')\n",
      "pl.xlabel('theta')\n",
      "pl.subplot(1, 2, 2)\n",
      "pl.plot(theta, score)\n",
      "pl.ylabel('R^2 score')\n",
      "pl.xlabel('theta')\n",
      "fig.axes[0].set_xscale('log')\n",
      "fig.axes[1].set_xscale('log')\n",
      "pl.show()"
     ],
     "language": "python",
     "metadata": {},
     "outputs": [
      {
       "metadata": {},
       "output_type": "display_data",
       "png": "[encoded data removed]",
       "text": [
        "<matplotlib.figure.Figure at 0xac7c9ac>"
       ]
      }
     ],
     "prompt_number": 10
    }
   ],
   "metadata": {}
  }
 ]
}